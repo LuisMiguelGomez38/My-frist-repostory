{
  "nbformat": 4,
  "nbformat_minor": 0,
  "metadata": {
    "colab": {
      "provenance": [],
      "authorship_tag": "ABX9TyN9iOBsI9JENea/L/2HGkSP",
      "include_colab_link": true
    },
    "kernelspec": {
      "name": "python3",
      "display_name": "Python 3"
    },
    "language_info": {
      "name": "python"
    }
  },
  "cells": [
    {
      "cell_type": "markdown",
      "metadata": {
        "id": "view-in-github",
        "colab_type": "text"
      },
      "source": [
        "<a href=\"https://colab.research.google.com/github/LuisMiguelGomez38/My-frist-repostory/blob/main/My_first_notebook.ipynb\" target=\"_parent\"><img src=\"https://colab.research.google.com/assets/colab-badge.svg\" alt=\"Open In Colab\"/></a>"
      ]
    },
    {
      "cell_type": "code",
      "execution_count": 5,
      "metadata": {
        "colab": {
          "base_uri": "https://localhost:8080/"
        },
        "id": "DmoBIh2JlfgV",
        "outputId": "f395b233-e46b-4011-fca0-24a4fc42c3dd"
      },
      "outputs": [
        {
          "output_type": "stream",
          "name": "stdout",
          "text": [
            "hola LUIS\n",
            "15\n",
            "18\n"
          ]
        }
      ],
      "source": [
        "name = \"LUIS\"\n",
        "print(\"hola\", name)\n",
        "a = 3\n",
        "b = 5\n",
        "c = a * b\n",
        "d = a + c\n",
        "print(c)\n",
        "print(d)"
      ]
    }
  ]
}